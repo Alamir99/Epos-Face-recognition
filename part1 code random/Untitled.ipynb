{
 "cells": [
  {
   "cell_type": "code",
   "execution_count": 1,
   "id": "fce8463f",
   "metadata": {},
   "outputs": [
    {
     "name": "stdout",
     "output_type": "stream",
     "text": [
      "2023-04-29 14:49:26.465559: I tensorflow/core/platform/cpu_feature_guard.cc:182] This TensorFlow binary is optimized to use available CPU instructions in performance-critical operations.\n",
      "To enable the following instructions: AVX2 FMA, in other operations, rebuild TensorFlow with the appropriate compiler flags.\n",
      "INFO: Created TensorFlow Lite XNNPACK delegate for CPU.\n",
      "\n",
      "------------------------------- Model Loaded -------------------------------\n",
      "dataset/amir/IMG_1410.png\n",
      "dataset/amir/hg.png\n",
      "dataset/amir/55.png\n",
      "dataset/saud/IMG_5320.png\n",
      "dataset/saud/IMG_5321.png\n",
      "\n",
      "------------------------------- Model Training Done -------------------------------\n",
      "\n",
      "------------------------------- Streaming Now -------------------------------\n",
      "0.8643063306808472\n",
      "0.8735587149858475\n",
      "0.8584024608135223\n",
      "0.6210267841815948\n",
      "0.5960601270198822\n",
      "Welcome amir\n",
      "Your Medicine is: abc plus 14 tablets\n",
      "['amir']\n"
     ]
    }
   ],
   "source": [
    "!python run.py"
   ]
  },
  {
   "cell_type": "code",
   "execution_count": null,
   "id": "7b559874",
   "metadata": {},
   "outputs": [],
   "source": []
  }
 ],
 "metadata": {
  "kernelspec": {
   "display_name": "Python 3 (ipykernel)",
   "language": "python",
   "name": "python3"
  },
  "language_info": {
   "codemirror_mode": {
    "name": "ipython",
    "version": 3
   },
   "file_extension": ".py",
   "mimetype": "text/x-python",
   "name": "python",
   "nbconvert_exporter": "python",
   "pygments_lexer": "ipython3",
   "version": "3.10.9"
  }
 },
 "nbformat": 4,
 "nbformat_minor": 5
}
